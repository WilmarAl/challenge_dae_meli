{
 "cells": [
  {
   "cell_type": "code",
   "execution_count": 1,
   "id": "f4f13911",
   "metadata": {},
   "outputs": [
    {
     "name": "stderr",
     "output_type": "stream",
     "text": [
      "e:\\00-Personal\\code\\challenge_dae_meli\\.venv\\Lib\\site-packages\\tqdm\\auto.py:21: TqdmWarning: IProgress not found. Please update jupyter and ipywidgets. See https://ipywidgets.readthedocs.io/en/stable/user_install.html\n",
      "  from .autonotebook import tqdm as notebook_tqdm\n"
     ]
    }
   ],
   "source": [
    "import pandas as pd\n",
    "import numpy as np\n",
    "from sentence_transformers import SentenceTransformer\n",
    "from sklearn.model_selection import train_test_split, GridSearchCV\n",
    "from sklearn.linear_model import LogisticRegression\n",
    "from sklearn.metrics import accuracy_score, classification_report, confusion_matrix\n",
    "import seaborn as sns\n",
    "import matplotlib.pyplot as plt\n",
    "\n",
    "from collections import Counter\n",
    "from imblearn.over_sampling import SMOTE\n",
    "from imblearn.under_sampling import RandomUnderSampler\n"
   ]
  },
  {
   "cell_type": "markdown",
   "id": "80fb9c01",
   "metadata": {},
   "source": [
    "## Carga de datos"
   ]
  },
  {
   "cell_type": "code",
   "execution_count": 2,
   "id": "98750365",
   "metadata": {},
   "outputs": [],
   "source": [
    "df_original = pd.read_csv('../data/01_raw/df_challenge_meli.csv', encoding='latin-1')\n",
    "df_sellers_clustered = pd.read_csv('../data/02_processed/df_sellers_clustered.csv', encoding='latin-1')"
   ]
  },
  {
   "cell_type": "code",
   "execution_count": 3,
   "id": "55f6890b",
   "metadata": {},
   "outputs": [
    {
     "name": "stdout",
     "output_type": "stream",
     "text": [
      "<class 'pandas.core.frame.DataFrame'>\n",
      "RangeIndex: 185250 entries, 0 to 185249\n",
      "Data columns (total 14 columns):\n",
      " #   Column             Non-Null Count   Dtype  \n",
      "---  ------             --------------   -----  \n",
      " 0   tim_day            185250 non-null  object \n",
      " 1   seller_nickname    185250 non-null  object \n",
      " 2   titulo             185250 non-null  object \n",
      " 3   seller_reputation  182878 non-null  object \n",
      " 4   stock              185250 non-null  int64  \n",
      " 5   logistic_type      185250 non-null  object \n",
      " 6   condition          185250 non-null  object \n",
      " 7   is_refurbished     185250 non-null  bool   \n",
      " 8   price              183734 non-null  float64\n",
      " 9   regular_price      49956 non-null   float64\n",
      " 10  categoria          185250 non-null  object \n",
      " 11  url                185250 non-null  object \n",
      " 12  category_id        185250 non-null  object \n",
      " 13  category_name      185250 non-null  object \n",
      "dtypes: bool(1), float64(2), int64(1), object(10)\n",
      "memory usage: 18.6+ MB\n"
     ]
    }
   ],
   "source": [
    "df_original.info()"
   ]
  },
  {
   "cell_type": "markdown",
   "id": "256556ce",
   "metadata": {},
   "source": [
    "## Agrupar titulos de productos"
   ]
  },
  {
   "cell_type": "code",
   "execution_count": 4,
   "id": "d3ee6d49",
   "metadata": {},
   "outputs": [],
   "source": [
    "seller_text_profiles = df_original.groupby('seller_nickname')['titulo'].apply(lambda x: ' '.join(x)).reset_index()\n",
    "seller_text_profiles.rename(columns={'titulo': 'catalogo_texto'}, inplace=True)\n",
    "\n",
    "df_final = pd.merge(seller_text_profiles, df_sellers_clustered, on='seller_nickname')"
   ]
  },
  {
   "cell_type": "code",
   "execution_count": 5,
   "id": "25a3d9b5",
   "metadata": {},
   "outputs": [
    {
     "name": "stdout",
     "output_type": "stream",
     "text": [
      "Número de vendedores antes del filtrado: 46586\n",
      "Número de vendedores después del filtrado: 46585\n",
      "Clústeres con menos de 2 miembros han sido removidos para el entrenamiento.\n",
      "\n"
     ]
    }
   ],
   "source": [
    "min_members = 2\n",
    "\n",
    "cluster_counts = df_final['cluster'].value_counts()\n",
    "clusters_to_keep = cluster_counts[cluster_counts >= min_members].index\n",
    "df_filtered = df_final[df_final['cluster'].isin(clusters_to_keep)]\n",
    "\n",
    "print(f\"Número de vendedores antes del filtrado: {len(df_final)}\")\n",
    "print(f\"Número de vendedores después del filtrado: {len(df_filtered)}\")\n",
    "print(f\"Clústeres con menos de {min_members} miembros han sido removidos para el entrenamiento.\\n\")"
   ]
  },
  {
   "cell_type": "markdown",
   "id": "ac68ac8f",
   "metadata": {},
   "source": [
    "## Modelo de embeddings"
   ]
  },
  {
   "cell_type": "code",
   "execution_count": 6,
   "id": "5d24032e",
   "metadata": {},
   "outputs": [
    {
     "name": "stderr",
     "output_type": "stream",
     "text": [
      "Batches: 100%|██████████| 1456/1456 [07:41<00:00,  3.15it/s]\n"
     ]
    },
    {
     "name": "stdout",
     "output_type": "stream",
     "text": [
      "Embeddings generados. Forma de la matriz de embeddings: (46585, 384)\n",
      "Cada vendedor ahora está representado por un vector de 384 dimensiones.\n",
      "\n"
     ]
    }
   ],
   "source": [
    "model = SentenceTransformer('all-MiniLM-L6-v2')\n",
    "embeddings = model.encode(df_filtered['catalogo_texto'].tolist(), show_progress_bar=True)\n",
    "\n",
    "print(f\"Embeddings generados. Forma de la matriz de embeddings: {embeddings.shape}\")\n",
    "print(\"Cada vendedor ahora está representado por un vector de 384 dimensiones.\\n\")\n"
   ]
  },
  {
   "cell_type": "code",
   "execution_count": 7,
   "id": "bea32e5f",
   "metadata": {},
   "outputs": [],
   "source": [
    "X = embeddings\n",
    "y = df_filtered['cluster']"
   ]
  },
  {
   "cell_type": "code",
   "execution_count": 8,
   "id": "3d70e462",
   "metadata": {},
   "outputs": [
    {
     "name": "stdout",
     "output_type": "stream",
     "text": [
      "Distribución de clases: Counter({0: 31894, 2: 8650, 1: 4931, 6: 808, 4: 267, 5: 35})\n"
     ]
    }
   ],
   "source": [
    "print(f\"Distribución de clases: {Counter(y)}\")"
   ]
  },
  {
   "cell_type": "markdown",
   "id": "6cb37987",
   "metadata": {},
   "source": [
    "Clases desbalanceadas. Se requiere balancear etiquetas"
   ]
  },
  {
   "cell_type": "code",
   "execution_count": 9,
   "id": "5ec0a14c",
   "metadata": {},
   "outputs": [
    {
     "name": "stdout",
     "output_type": "stream",
     "text": [
      "Distribución de clases DESPUES del balanceo: Counter({0: 31894, 2: 31894, 1: 31894, 6: 31894, 4: 31894, 5: 31894})\n"
     ]
    }
   ],
   "source": [
    "smote = SMOTE(random_state=32)\n",
    "X_resampled, y_resampled = smote.fit_resample(X, y)\n",
    "print(f\"Distribución de clases DESPUES del balanceo: {Counter(y_resampled)}\")"
   ]
  },
  {
   "cell_type": "code",
   "execution_count": 10,
   "id": "a93d2d84",
   "metadata": {},
   "outputs": [
    {
     "name": "stdout",
     "output_type": "stream",
     "text": [
      "Datos divididos: 153091 para entrenamiento, 38273 para prueba.\n",
      "\n"
     ]
    }
   ],
   "source": [
    "X_train, X_test, y_train, y_test = train_test_split(X_resampled, y_resampled, test_size=0.2, random_state=32, stratify=y_resampled)\n",
    "print(f\"Datos divididos: {len(X_train)} para entrenamiento, {len(X_test)} para prueba.\\n\")"
   ]
  },
  {
   "cell_type": "code",
   "execution_count": 11,
   "id": "219beefc",
   "metadata": {},
   "outputs": [
    {
     "name": "stdout",
     "output_type": "stream",
     "text": [
      "Modelo de clasificación entrenado exitosamente.\n",
      "\n"
     ]
    }
   ],
   "source": [
    "classifier = LogisticRegression(random_state=32, max_iter=1000)\n",
    "classifier.fit(X_resampled, y_resampled)\n",
    "print(\"Modelo de clasificación entrenado exitosamente.\\n\")"
   ]
  },
  {
   "cell_type": "markdown",
   "id": "24cd6fc1",
   "metadata": {},
   "source": [
    "## Evaluación"
   ]
  },
  {
   "cell_type": "code",
   "execution_count": 12,
   "id": "06b85cef",
   "metadata": {},
   "outputs": [
    {
     "name": "stdout",
     "output_type": "stream",
     "text": [
      "Exactitud (Accuracy) del modelo: 81.54%\n",
      "Esta métrica indica el porcentaje de vendedores que el modelo clasificó correctamente.\n",
      "\n",
      "Informe de Clasificación Detallado:\n",
      "              precision    recall  f1-score   support\n",
      "\n",
      "           0       0.64      0.56      0.60      6379\n",
      "           1       0.76      0.75      0.75      6379\n",
      "           2       0.75      0.72      0.74      6379\n",
      "           4       0.81      0.88      0.84      6379\n",
      "           5       0.98      1.00      0.99      6379\n",
      "           6       0.93      0.97      0.95      6378\n",
      "\n",
      "    accuracy                           0.82     38273\n",
      "   macro avg       0.81      0.82      0.81     38273\n",
      "weighted avg       0.81      0.82      0.81     38273\n",
      "\n"
     ]
    }
   ],
   "source": [
    "y_pred = classifier.predict(X_test)\n",
    "\n",
    "accuracy = accuracy_score(y_test, y_pred)\n",
    "print(f\"Exactitud (Accuracy) del modelo: {accuracy:.2%}\")\n",
    "print(\"Esta métrica indica el porcentaje de vendedores que el modelo clasificó correctamente.\\n\")\n",
    "\n",
    "print(\"Informe de Clasificación Detallado:\")\n",
    "print(classification_report(y_test, y_pred))"
   ]
  },
  {
   "cell_type": "code",
   "execution_count": 14,
   "id": "94f0361f",
   "metadata": {},
   "outputs": [
    {
     "name": "stdout",
     "output_type": "stream",
     "text": [
      "Exactitud (Accuracy) del modelo: 81.54%\n",
      "Esta métrica indica el porcentaje de vendedores que el modelo clasificó correctamente.\n",
      "\n",
      "Informe de Clasificación Detallado:\n",
      "              precision    recall  f1-score   support\n",
      "\n",
      "           0       0.64      0.56      0.60      6379\n",
      "           1       0.76      0.75      0.75      6379\n",
      "           2       0.75      0.72      0.74      6379\n",
      "           4       0.81      0.88      0.84      6379\n",
      "           5       0.98      1.00      0.99      6379\n",
      "           6       0.93      0.97      0.95      6378\n",
      "\n",
      "    accuracy                           0.82     38273\n",
      "   macro avg       0.81      0.82      0.81     38273\n",
      "weighted avg       0.81      0.82      0.81     38273\n",
      "\n"
     ]
    }
   ],
   "source": [
    "y_pred = classifier.predict(X_test)\n",
    "\n",
    "accuracy = accuracy_score(y_test, y_pred)\n",
    "print(f\"Exactitud (Accuracy) del modelo: {accuracy:.2%}\")\n",
    "print(\"Esta métrica indica el porcentaje de vendedores que el modelo clasificó correctamente.\\n\")\n",
    "\n",
    "print(\"Informe de Clasificación Detallado:\")\n",
    "print(classification_report(y_test, y_pred))"
   ]
  },
  {
   "cell_type": "code",
   "execution_count": 15,
   "id": "7a32202c",
   "metadata": {},
   "outputs": [
    {
     "name": "stdout",
     "output_type": "stream",
     "text": [
      "Matriz de confusión\n"
     ]
    },
    {
     "data": {
      "text/plain": [
       "Text(0.5, 58.7222222222222, 'Clúster Predicho')"
      ]
     },
     "execution_count": 15,
     "metadata": {},
     "output_type": "execute_result"
    },
    {
     "data": {
      "image/png": "[encoded data removed]",
      "text/plain": [
       "<Figure size 1000x800 with 2 Axes>"
      ]
     },
     "metadata": {},
     "output_type": "display_data"
    }
   ],
   "source": [
    "print(\"Matriz de confusión\")\n",
    "cm = confusion_matrix(y_test, y_pred)\n",
    "plt.figure(figsize=(10, 8))\n",
    "sns.heatmap(cm, annot=True, fmt='d', cmap='Blues', xticklabels=np.unique(y), yticklabels=np.unique(y))\n",
    "plt.title('Matriz de Confusión')\n",
    "plt.ylabel('Clúster Real')\n",
    "plt.xlabel('Clúster Predicho')\n",
    "# plt.savefig('confusion_matrix.png')\n",
    "# print(\"Matriz de confusión guardada como 'confusion_matrix.png'\\n\")"
   ]
  },
  {
   "cell_type": "markdown",
   "id": "df58a00e",
   "metadata": {},
   "source": [
    "## Uso práctico"
   ]
  },
  {
   "cell_type": "code",
   "execution_count": null,
   "id": "bbc5fbc8",
   "metadata": {},
   "outputs": [
    {
     "name": "stdout",
     "output_type": "stream",
     "text": [
      "Títulos del nuevo vendedor: 'Smartphone Samsung Galaxy S24 Ultra - Audifonos Bose Quietcomfort'\n",
      "El modelo predice que este nuevo vendedor pertenece al Clúster: 2\n",
      "¡El proceso de clasificación para un nuevo vendedor está automatizado!\n"
     ]
    }
   ],
   "source": [
    "nuevo_vendedor_titulos = \"Smartphone Samsung Galaxy S24 Ultra - Audifonos Bose Quietcomfort\"\n",
    "print(f\"Títulos del nuevo vendedor: '{nuevo_vendedor_titulos}'\")\n",
    "\n",
    "nuevo_embedding = model.encode([nuevo_vendedor_titulos])\n",
    "\n",
    "prediccion_cluster = classifier.predict(nuevo_embedding)\n",
    "print(f\"El modelo predice que este nuevo vendedor pertenece al Clúster: {prediccion_cluster[0]}\")\n",
    "print(\"¡El proceso de clasificación para un nuevo vendedor está automatizado!\")"
   ]
  },
  {
   "cell_type": "code",
   "execution_count": null,
   "id": "700a8f02",
   "metadata": {},
   "outputs": [],
   "source": []
  }
 ],
 "metadata": {
  "kernelspec": {
   "display_name": ".venv (3.11.9)",
   "language": "python",
   "name": "python3"
  },
  "language_info": {
   "codemirror_mode": {
    "name": "ipython",
    "version": 3
   },
   "file_extension": ".py",
   "mimetype": "text/x-python",
   "name": "python",
   "nbconvert_exporter": "python",
   "pygments_lexer": "ipython3",
   "version": "3.11.9"
  }
 },
 "nbformat": 4,
 "nbformat_minor": 5
}
